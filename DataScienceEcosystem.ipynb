{
 "cells": [
  {
   "cell_type": "markdown",
   "id": "a8d3455c-6e4c-4c61-ace1-f8c864d52f69",
   "metadata": {},
   "source": [
    "# Data Science Tools and Ecosystem"
   ]
  },
  {
   "cell_type": "markdown",
   "id": "225f01c4-371c-467f-96d3-e6577c62d919",
   "metadata": {},
   "source": [
    "In this notebook, Data Science Tools and Ecosystem are summarized."
   ]
  },
  {
   "cell_type": "markdown",
   "id": "e05442e2-fa39-41ac-ad64-0405bc8a20f2",
   "metadata": {},
   "source": [
    "**Objectives**\n",
    "- List popular languages for Data Science\n",
    "- Commonly used libraries in Data Science\n",
    "- List Data Science Tools\n",
    "- Text Formatting (Bold, Italics)"
   ]
  },
  {
   "cell_type": "markdown",
   "id": "eac5934d-93e1-436b-ba10-7dc145bb2e76",
   "metadata": {},
   "source": [
    "Some of the popular languages that Data Scientist use are:\n",
    "1. Python\n",
    "2. R\n",
    "3. SQL\n",
    "4. C++"
   ]
  },
  {
   "cell_type": "markdown",
   "id": "6344c44c-f474-4d52-aca0-e28193da09e2",
   "metadata": {},
   "source": [
    "Some of the commonly used libraries used by Data Scientists include\n",
    "1. ggplot2\n",
    "2. NumPy\n",
    "3. Pandas\n",
    "4. Matplotlib\n",
    "5. TensorFlow"
   ]
  },
  {
   "cell_type": "markdown",
   "id": "2e11ffa5-5797-4c71-85ce-92fbaf915bfb",
   "metadata": {},
   "source": [
    "| Data Science Tools |\n",
    "| ------------------ |\n",
    "| Rstudio |\n",
    "| GitHub |\n",
    "| Mongo DB |"
   ]
  },
  {
   "cell_type": "markdown",
   "id": "443c1a5a-fda2-42d0-9fc9-e17f911191a7",
   "metadata": {},
   "source": [
    "### Below are a few examples of evaluating arithmetic expressions in Python"
   ]
  },
  {
   "cell_type": "code",
   "execution_count": 1,
   "id": "fcca2ab9-b986-42bf-bc5f-bfb8e9daf9fb",
   "metadata": {},
   "outputs": [
    {
     "data": {
      "text/plain": [
       "17"
      ]
     },
     "execution_count": 1,
     "metadata": {},
     "output_type": "execute_result"
    }
   ],
   "source": [
    "#This is a simple arithmetic formula to multiply then add integers\n",
    "(3*4)+5"
   ]
  },
  {
   "cell_type": "code",
   "execution_count": 3,
   "id": "706c1283-20cf-44cd-acf0-b51716861ef1",
   "metadata": {},
   "outputs": [
    {
     "name": "stdout",
     "output_type": "stream",
     "text": [
      "3.3333333333333335\n"
     ]
    }
   ],
   "source": [
    "#This will convert 200 minutes to hours by dividing by 60\n",
    "h=200/60\n",
    "print (h)"
   ]
  },
  {
   "cell_type": "markdown",
   "id": "41acd2b2-9d37-4c23-864e-f0c84663b747",
   "metadata": {},
   "source": [
    "## Author\n",
    "Elien Samira Osumanu"
   ]
  },
  {
   "cell_type": "code",
   "execution_count": null,
   "id": "c9034654-639d-4dfc-90fe-1b5cfb49b638",
   "metadata": {},
   "outputs": [],
   "source": []
  }
 ],
 "metadata": {
  "kernelspec": {
   "display_name": "Python 3 (ipykernel)",
   "language": "python",
   "name": "python3"
  },
  "language_info": {
   "codemirror_mode": {
    "name": "ipython",
    "version": 3
   },
   "file_extension": ".py",
   "mimetype": "text/x-python",
   "name": "python",
   "nbconvert_exporter": "python",
   "pygments_lexer": "ipython3",
   "version": "3.12.4"
  }
 },
 "nbformat": 4,
 "nbformat_minor": 5
}
